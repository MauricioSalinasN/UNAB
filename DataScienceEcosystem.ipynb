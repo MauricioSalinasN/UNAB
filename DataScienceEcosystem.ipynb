{
 "cells": [
  {
   "cell_type": "markdown",
   "id": "b21d3dfb-7e61-403a-944d-23591eccb2cb",
   "metadata": {},
   "source": [
    "# DATA SCIENCE TOOLS AND ECOSYSTEM"
   ]
  },
  {
   "cell_type": "markdown",
   "id": "7ffa9353-67c0-4891-ba8e-9bac08486dc9",
   "metadata": {},
   "source": [
    "## _In this notebook, Data Science Tools and Ecosystem are summarized._"
   ]
  },
  {
   "cell_type": "markdown",
   "id": "924b29b6-3651-4c8c-bc41-7dce2dbb6617",
   "metadata": {},
   "source": [
    "## _**Objectives:**_\n",
    "- Data Science\n",
    "- languages\n",
    "- bibliotecas\n",
    "- arithmetic expressions"
   ]
  },
  {
   "cell_type": "markdown",
   "id": "32c41c4f-75fb-48bb-9f19-311fe20e4720",
   "metadata": {},
   "source": [
    "## Some of the popular languages that Data Scientists use are:\n",
    "1. Phyton\n",
    "2. Sql\n",
    "3. R\n",
    "4. Julia"
   ]
  },
  {
   "cell_type": "markdown",
   "id": "4ff764f4-9d98-4931-b62c-0aa0fec57b61",
   "metadata": {},
   "source": [
    "## Some of the commonly used libraries used by Data Scientists include:\n",
    "1. _Panda_\n",
    "2. *NumPy*\n",
    "3. *Matplotlib*"
   ]
  },
  {
   "cell_type": "markdown",
   "id": "e2d54ef8-7864-4965-990d-4eea572bbd1b",
   "metadata": {},
   "source": [
    "## Tabla Data Science Tools\n",
    "\n",
    "|Data Science Tools|\n",
    "|------------------|\n",
    "|Jupyter Notebook|\n",
    "|Visual Studio Code|\n",
    "|RStudio|"
   ]
  },
  {
   "cell_type": "markdown",
   "id": "e576f886-4f62-4e9c-88d5-63a2751efc04",
   "metadata": {},
   "source": [
    "### Below are a few examples of evaluating arithmetic expressions in Python\n",
    "* **Suma:** `2 + 3`\n",
    "* **Resta:** `5 - 2`\n",
    "* **Multiplicación:** `4 * 6`\n",
    "* **División:** `10 / 2`\n",
    "* **Exponenciación:** `2^3`"
   ]
  },
  {
   "cell_type": "code",
   "execution_count": 8,
   "id": "a3ec0ffa-7c22-4303-8cfa-1791df927bc0",
   "metadata": {},
   "outputs": [
    {
     "data": {
      "text/plain": [
       "17"
      ]
     },
     "execution_count": 8,
     "metadata": {},
     "output_type": "execute_result"
    }
   ],
   "source": [
    "# This a simple arithmetic expression to mutiply then add integers..\n",
    "(3*4)+5"
   ]
  },
  {
   "cell_type": "code",
   "execution_count": 9,
   "id": "e64b4767-3c19-47f3-bc7c-f9bb2f16335d",
   "metadata": {},
   "outputs": [
    {
     "name": "stdout",
     "output_type": "stream",
     "text": [
      "3.3333333333333335 horas\n"
     ]
    }
   ],
   "source": [
    "#This will convert 200 minutes to hours by diving by 60.\n",
    "minutos = 200\n",
    "horas = minutos/ 60\n",
    "print (horas, \"horas\")"
   ]
  },
  {
   "cell_type": "markdown",
   "id": "3fcba55e-bb5e-4bee-a596-5f7e38ead246",
   "metadata": {},
   "source": [
    "## Author:\n",
    "Mauricio Salinas Núñez"
   ]
  },
  {
   "cell_type": "code",
   "execution_count": null,
   "id": "b81b1e7f-de64-4c48-a7c8-06750f569e01",
   "metadata": {},
   "outputs": [],
   "source": []
  }
 ],
 "metadata": {
  "kernelspec": {
   "display_name": "Python 3 (ipykernel)",
   "language": "python",
   "name": "python3"
  },
  "language_info": {
   "codemirror_mode": {
    "name": "ipython",
    "version": 3
   },
   "file_extension": ".py",
   "mimetype": "text/x-python",
   "name": "python",
   "nbconvert_exporter": "python",
   "pygments_lexer": "ipython3",
   "version": "3.12.7"
  }
 },
 "nbformat": 4,
 "nbformat_minor": 5
}
